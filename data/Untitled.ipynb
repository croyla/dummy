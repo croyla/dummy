{
 "cells": [
  {
   "cell_type": "code",
   "execution_count": 1,
   "metadata": {},
   "outputs": [],
   "source": [
    "import pandas as pd\n",
    "import numpy as np\n",
    "import matplotlib.pyplot as plt\n",
    "import seaborn as sns\n",
    "%matplotlib inline"
   ]
  },
  {
   "cell_type": "code",
   "execution_count": 14,
   "metadata": {},
   "outputs": [
    {
     "data": {
      "text/html": [
       "<div>\n",
       "<style scoped>\n",
       "    .dataframe tbody tr th:only-of-type {\n",
       "        vertical-align: middle;\n",
       "    }\n",
       "\n",
       "    .dataframe tbody tr th {\n",
       "        vertical-align: top;\n",
       "    }\n",
       "\n",
       "    .dataframe thead th {\n",
       "        text-align: right;\n",
       "    }\n",
       "</style>\n",
       "<table border=\"1\" class=\"dataframe\">\n",
       "  <thead>\n",
       "    <tr style=\"text-align: right;\">\n",
       "      <th></th>\n",
       "      <th>Case No.</th>\n",
       "      <th>Ambient Temperature( deg C)</th>\n",
       "      <th>Calibration(days)</th>\n",
       "      <th>Unwanted substance deposition(0/1)</th>\n",
       "      <th>Humidity(%)</th>\n",
       "      <th>H2S Content(ppm)</th>\n",
       "      <th>detected by(% of sensors)</th>\n",
       "      <th>Spuriosity Index(0/1)</th>\n",
       "      <th>Unnamed: 8</th>\n",
       "      <th>Unnamed: 9</th>\n",
       "      <th>Unnamed: 10</th>\n",
       "    </tr>\n",
       "  </thead>\n",
       "  <tbody>\n",
       "    <tr>\n",
       "      <td>0</td>\n",
       "      <td>Case # 1</td>\n",
       "      <td>-2</td>\n",
       "      <td>226</td>\n",
       "      <td>1</td>\n",
       "      <td>96</td>\n",
       "      <td>9</td>\n",
       "      <td>21</td>\n",
       "      <td>1</td>\n",
       "      <td>NaN</td>\n",
       "      <td>NaN</td>\n",
       "      <td>NaN</td>\n",
       "    </tr>\n",
       "    <tr>\n",
       "      <td>1</td>\n",
       "      <td>Case # 2</td>\n",
       "      <td>4</td>\n",
       "      <td>134</td>\n",
       "      <td>1</td>\n",
       "      <td>83</td>\n",
       "      <td>4</td>\n",
       "      <td>77</td>\n",
       "      <td>0</td>\n",
       "      <td>NaN</td>\n",
       "      <td>NaN</td>\n",
       "      <td>NaN</td>\n",
       "    </tr>\n",
       "    <tr>\n",
       "      <td>2</td>\n",
       "      <td>Case # 3</td>\n",
       "      <td>7</td>\n",
       "      <td>163</td>\n",
       "      <td>0</td>\n",
       "      <td>69</td>\n",
       "      <td>2</td>\n",
       "      <td>81</td>\n",
       "      <td>0</td>\n",
       "      <td>NaN</td>\n",
       "      <td>NaN</td>\n",
       "      <td>NaN</td>\n",
       "    </tr>\n",
       "    <tr>\n",
       "      <td>3</td>\n",
       "      <td>Case # 4</td>\n",
       "      <td>5</td>\n",
       "      <td>162</td>\n",
       "      <td>0</td>\n",
       "      <td>80</td>\n",
       "      <td>6</td>\n",
       "      <td>69</td>\n",
       "      <td>0</td>\n",
       "      <td>NaN</td>\n",
       "      <td>NaN</td>\n",
       "      <td>NaN</td>\n",
       "    </tr>\n",
       "    <tr>\n",
       "      <td>4</td>\n",
       "      <td>Case # 5</td>\n",
       "      <td>2</td>\n",
       "      <td>192</td>\n",
       "      <td>1</td>\n",
       "      <td>87</td>\n",
       "      <td>3</td>\n",
       "      <td>67</td>\n",
       "      <td>0</td>\n",
       "      <td>NaN</td>\n",
       "      <td>NaN</td>\n",
       "      <td>NaN</td>\n",
       "    </tr>\n",
       "  </tbody>\n",
       "</table>\n",
       "</div>"
      ],
      "text/plain": [
       "   Case No.  Ambient Temperature( deg C)  Calibration(days)  \\\n",
       "0  Case # 1                           -2                226   \n",
       "1  Case # 2                            4                134   \n",
       "2  Case # 3                            7                163   \n",
       "3  Case # 4                            5                162   \n",
       "4  Case # 5                            2                192   \n",
       "\n",
       "   Unwanted substance deposition(0/1)  Humidity(%)  H2S Content(ppm)  \\\n",
       "0                                   1           96                 9   \n",
       "1                                   1           83                 4   \n",
       "2                                   0           69                 2   \n",
       "3                                   0           80                 6   \n",
       "4                                   1           87                 3   \n",
       "\n",
       "   detected by(% of sensors)  Spuriosity Index(0/1)  Unnamed: 8  Unnamed: 9  \\\n",
       "0                         21                      1         NaN         NaN   \n",
       "1                         77                      0         NaN         NaN   \n",
       "2                         81                      0         NaN         NaN   \n",
       "3                         69                      0         NaN         NaN   \n",
       "4                         67                      0         NaN         NaN   \n",
       "\n",
       "   Unnamed: 10  \n",
       "0          NaN  \n",
       "1          NaN  \n",
       "2          NaN  \n",
       "3          NaN  \n",
       "4          NaN  "
      ]
     },
     "execution_count": 14,
     "metadata": {},
     "output_type": "execute_result"
    }
   ],
   "source": [
    "df = pd.read_excel(\"False Alarm Cases.xlsx\")\n",
    "df.head()"
   ]
  },
  {
   "cell_type": "code",
   "execution_count": 15,
   "metadata": {},
   "outputs": [
    {
     "name": "stdout",
     "output_type": "stream",
     "text": [
      "<class 'pandas.core.frame.DataFrame'>\n",
      "RangeIndex: 1892 entries, 0 to 1891\n",
      "Data columns (total 11 columns):\n",
      "Case No.                              1892 non-null object\n",
      "Ambient Temperature( deg C)           1892 non-null int64\n",
      "Calibration(days)                     1892 non-null int64\n",
      "Unwanted substance deposition(0/1)    1892 non-null int64\n",
      "Humidity(%)                           1892 non-null int64\n",
      "H2S Content(ppm)                      1892 non-null int64\n",
      "detected by(% of sensors)             1892 non-null int64\n",
      "Spuriosity Index(0/1)                 1892 non-null int64\n",
      "Unnamed: 8                            0 non-null float64\n",
      "Unnamed: 9                            0 non-null float64\n",
      "Unnamed: 10                           1 non-null float64\n",
      "dtypes: float64(3), int64(7), object(1)\n",
      "memory usage: 162.7+ KB\n"
     ]
    }
   ],
   "source": [
    "df.info()"
   ]
  },
  {
   "cell_type": "code",
   "execution_count": 16,
   "metadata": {},
   "outputs": [],
   "source": [
    "df.drop([\"Unnamed: 8\", \"Unnamed: 9\", \"Unnamed: 10\", \"Case No.\"], axis = 1, inplace = True)"
   ]
  },
  {
   "cell_type": "code",
   "execution_count": 17,
   "metadata": {},
   "outputs": [
    {
     "data": {
      "text/plain": [
       "Ambient Temperature( deg C)           0.048690\n",
       "Calibration(days)                    -0.011579\n",
       "Unwanted substance deposition(0/1)   -0.001640\n",
       "Humidity(%)                           0.011318\n",
       "H2S Content(ppm)                      0.004233\n",
       "detected by(% of sensors)            -0.849136\n",
       "Spuriosity Index(0/1)                 1.000000\n",
       "Name: Spuriosity Index(0/1), dtype: float64"
      ]
     },
     "execution_count": 17,
     "metadata": {},
     "output_type": "execute_result"
    }
   ],
   "source": [
    "df.corr()[\"Spuriosity Index(0/1)\"]"
   ]
  },
  {
   "cell_type": "code",
   "execution_count": 19,
   "metadata": {},
   "outputs": [],
   "source": [
    "df.drop([\"H2S Content(ppm)\", \"Unwanted substance deposition(0/1)\"], axis = 1, inplace = True)"
   ]
  },
  {
   "cell_type": "code",
   "execution_count": null,
   "metadata": {},
   "outputs": [],
   "source": []
  }
 ],
 "metadata": {
  "kernelspec": {
   "display_name": "Python 3",
   "language": "python",
   "name": "python3"
  },
  "language_info": {
   "codemirror_mode": {
    "name": "ipython",
    "version": 3
   },
   "file_extension": ".py",
   "mimetype": "text/x-python",
   "name": "python",
   "nbconvert_exporter": "python",
   "pygments_lexer": "ipython3",
   "version": "3.7.4"
  }
 },
 "nbformat": 4,
 "nbformat_minor": 2
}
